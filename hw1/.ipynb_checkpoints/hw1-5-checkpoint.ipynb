{
  "cells": [
    {
      "cell_type": "markdown",
      "metadata": {
        "id": "BXnT2KP0n7fJ"
      },
      "source": [
        "# Fibonacci Sequence and efficient algorithms\n",
        "\n",
        "In class you saw the Fibonacci sequence defined as\n",
        "$$\n",
        "F_n = \\begin{cases}\n",
        "        0 & n=0\\\\\n",
        "        1 & n=1\\\\\n",
        "        F_{n-1} + F_{n-2} & n > 1\n",
        "      \\end{cases}\n",
        "$$\n",
        "\n",
        "Using the recursive definition you arrived to the algorithm ${\\tt fib1}$, which we showed has an exponential complexity. Then, we formulated the more efficient iterative algorithm ${\\tt fib2}$ with $O(n)$ complexity (given that additions are constant time). Now, we are going to try for an even more efficient algorithm. We can write\n",
        "\n",
        "$$\\begin{cases} F_1 & = F_1 \\\\ F_2 & = F_1 + F_0 \\end{cases}$$\n",
        "\n",
        "In matrix notation:\n",
        "\n",
        "$$\\begin{pmatrix} F_1 \\\\ F_2\\end{pmatrix} = \\begin{pmatrix} 0 & 1\\\\ 1& 1\\end{pmatrix}\\cdot \\begin{pmatrix} F_0 \\\\ F_1\\end{pmatrix}$$\n",
        "\n",
        "Similarly:\n",
        "$$\n",
        "    \\begin{pmatrix} F_2 \\\\ F_3\\end{pmatrix} = \\begin{pmatrix} 0 & 1\\\\ 1& 1\\end{pmatrix}\\cdot \\begin{pmatrix} F_1 \\\\ F_2\\end{pmatrix}= \\begin{pmatrix} 0 & 1\\\\ 1& 1\\end{pmatrix}^2\\cdot \\begin{pmatrix} F_0 \\\\ F_1\\end{pmatrix}\n",
        "$$\n",
        "and in general:\n",
        "$$\n",
        "    \\begin{pmatrix} F_n \\\\ F_{n+1}\\end{pmatrix} = \\begin{pmatrix} 0 & 1\\\\ 1& 1\\end{pmatrix}^n\\cdot \\begin{pmatrix} F_0 \\\\ F_1\\end{pmatrix}.\n",
        "$$\n",
        "\n",
        "First we need a way to multiply matrices. For various technical reasons, you will implement your own $2 \\times 2$ matrix multiplication."
      ]
    },
    {
      "cell_type": "code",
      "execution_count": null,
      "metadata": {
        "id": "rAM4oYIln7fP"
      },
      "outputs": [],
      "source": [
        "import timeit\n",
        "import matplotlib.pyplot as plt\n",
        "fib = [\n",
        "    0,\n",
        "    1,\n",
        "    1,\n",
        "    2,\n",
        "    3,\n",
        "    5,\n",
        "    8,\n",
        "    13,\n",
        "    21,\n",
        "    34,\n",
        "    55,\n",
        "    89,\n",
        "    144,\n",
        "    233,\n",
        "    377,\n",
        "    610,\n",
        "    987,\n",
        "    1597,\n",
        "    2584,\n",
        "    4181,\n",
        "    6765,\n",
        "    10946,\n",
        "    17711,\n",
        "    28657,\n",
        "    46368,\n",
        "    75025,\n",
        "    121393,\n",
        "    196418,\n",
        "    317811,\n",
        "    514229,\n",
        "    832040,\n",
        "    1346269,\n",
        "    2178309,\n",
        "    3524578,\n",
        "    5702887\n",
        "]"
      ]
    },
    {
      "cell_type": "code",
      "execution_count": null,
      "metadata": {
        "id": "Wn0RSlTqn7fS"
      },
      "outputs": [],
      "source": [
        "def matrix_multiply(A, B):\n",
        "    # TODO: Write the matrix multiplication function\n",
        "    # Reminder: (AB)[i, j] = sum_k A[i, k] * B[k, j]\n",
        "    # You can achieve this with 8 multiplications and 4 additions\n",
        "    return [[A[0][0] * B[0][0] + A[0][1] * B[1][0], A[0][0] * B[0][1] + A[0][1] * B[1][1]],\n",
        "            [A[1][0] * B[0][0] + A[1][1] * B[1][0], A[1][0] * B[0][1] + A[1][1] * B[1][1]]]"
      ]
    },
    {
      "cell_type": "markdown",
      "metadata": {
        "id": "tELd-A_qn7fS"
      },
      "source": [
        "Using your `matrix_multiply` function you can now implement the iterative algorithm by computing the correct power of the matrix."
      ]
    },
    {
      "cell_type": "code",
      "execution_count": null,
      "metadata": {
        "id": "8fT-qvIQn7fT"
      },
      "outputs": [],
      "source": [
        "A = [[0, 1], [1, 1]]\n",
        "\n",
        "def fib2(n: int):\n",
        "    if n == 0: return 0\n",
        "    if n == 1: return 1\n",
        "    An = [[1, 0], [0, 1]]\n",
        "    # TODO: Use matrix_multiply `n` times to compute An\n",
        "\n",
        "    for i in range(n):\n",
        "        An = matrix_multiply(An, A)\n",
        "\n",
        "    return An[0][1]"
      ]
    },
    {
      "cell_type": "markdown",
      "metadata": {
        "id": "lLGztsh4n7fT"
      },
      "source": [
        "Test how fast your implementation is"
      ]
    },
    {
      "cell_type": "code",
      "execution_count": null,
      "metadata": {
        "id": "qHKrwk2kn7fT",
        "outputId": "9891a996-cde4-4442-c03f-14d373607e2d",
        "colab": {
          "base_uri": "https://localhost:8080/",
          "height": 448
        }
      },
      "outputs": [
        {
          "output_type": "execute_result",
          "data": {
            "text/plain": [
              "[<matplotlib.lines.Line2D at 0x78ae51f50c40>]"
            ]
          },
          "metadata": {},
          "execution_count": 4
        },
        {
          "output_type": "display_data",
          "data": {
            "text/plain": [
              "<Figure size 640x480 with 1 Axes>"
            ],
            "image/png": "[encoded data removed]"
          },
          "metadata": {}
        }
      ],
      "source": [
        "N = 30\n",
        "# When it's ready to submit, uncomment the next line\n",
        "N = 100\n",
        "fib2_results = [fib2(i) for i in range(len(fib))]\n",
        "for i in range(0, 35):\n",
        "    assert fib[i] == fib2_results[i], f'fib({i}) = {fib[i]}, but you returned fib2({i}) = {fib2_results[i]}'\n",
        "\n",
        "rtime2 = [timeit.timeit(stmt='fib2({})'.format(n), globals=globals(), number=10000) for n in range(N)]\n",
        "plt.plot(range(N), rtime2, 'or')"
      ]
    },
    {
      "cell_type": "markdown",
      "metadata": {
        "id": "je-IYixJn7fU"
      },
      "source": [
        "Now it's time to speed up calculations further. Use your answer from question 2b to write `fib3`."
      ]
    },
    {
      "cell_type": "code",
      "execution_count": null,
      "metadata": {
        "id": "WA4G5NXfn7fU"
      },
      "outputs": [],
      "source": [
        "def pow(X, n):\n",
        "      if n == 1: return X\n",
        "\n",
        "      half = pow(X, n // 2)\n",
        "      half_2 = matrix_multiply(half, half)\n",
        "\n",
        "      if n % 2: return matrix_multiply(half_2, X) # n odd\n",
        "      else: return half_2 # n even\n",
        "\n",
        "def fib3(n: int):\n",
        "    if n == 0: return 0\n",
        "    if n == 1: return 1\n",
        "\n",
        "    return pow([[0, 1], [1, 1]], n)[0][1]"
      ]
    },
    {
      "cell_type": "markdown",
      "source": [],
      "metadata": {
        "id": "u4sATvIVeGOO"
      }
    },
    {
      "cell_type": "code",
      "execution_count": null,
      "metadata": {
        "id": "7CosLR0Pn7fV",
        "outputId": "c2e3d01a-ba59-4fe8-cd59-6c630de64496",
        "colab": {
          "base_uri": "https://localhost:8080/",
          "height": 448
        }
      },
      "outputs": [
        {
          "output_type": "execute_result",
          "data": {
            "text/plain": [
              "[<matplotlib.lines.Line2D at 0x78ae5135c130>]"
            ]
          },
          "metadata": {},
          "execution_count": 6
        },
        {
          "output_type": "display_data",
          "data": {
            "text/plain": [
              "<Figure size 640x480 with 1 Axes>"
            ],
            "image/png": "[encoded data removed]"
          },
          "metadata": {}
        }
      ],
      "source": [
        "N = 60\n",
        "# When it's ready to submit, uncomment the next line\n",
        "N = 200\n",
        "fib3_results = [fib3(i) for i in range(len(fib))]\n",
        "for i in range(0, 35):\n",
        "    assert fib[i] == fib3_results[i], f'fib({i}) = {fib[i]}, but you returned fib3({i}) = {fib3_results[i]}'\n",
        "\n",
        "rtime2 = [timeit.timeit(stmt='fib3({})'.format(n), globals=globals(), number=10000) for n in range(N)]\n",
        "plt.plot(range(N), rtime2, 'or')"
      ]
    }
  ],
  "metadata": {
    "anaconda-cloud": {},
    "celltoolbar": "Slideshow",
    "kernelspec": {
      "display_name": "Python 3",
      "language": "python",
      "name": "python3"
    },
    "language_info": {
      "codemirror_mode": {
        "name": "ipython",
        "version": 3
      },
      "file_extension": ".py",
      "mimetype": "text/x-python",
      "name": "python",
      "nbconvert_exporter": "python",
      "pygments_lexer": "ipython3",
      "version": "3.7.6"
    },
    "colab": {
      "provenance": []
    }
  },
  "nbformat": 4,
  "nbformat_minor": 0
}