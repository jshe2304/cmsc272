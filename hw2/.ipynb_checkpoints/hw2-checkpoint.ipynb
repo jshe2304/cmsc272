{
 "cells": [
  {
   "cell_type": "markdown",
   "metadata": {
    "id": "frtSFvBKQDrV"
   },
   "source": [
    "# Primality Testing\n",
    "\n",
    "In this notebook you will test different primality testing algorithms in terms of their success and running time. First you should use Eratosthenes' sieve to acquire all primes under 10,000."
   ]
  },
  {
   "cell_type": "code",
   "execution_count": 1,
   "metadata": {
    "id": "hqtMQerDQDrZ",
    "tags": []
   },
   "outputs": [],
   "source": [
    "# Imports\n",
    "import math\n",
    "import random\n",
    "from datetime import datetime\n",
    "import numpy as np\n",
    "\n",
    "N = 10000"
   ]
  },
  {
   "cell_type": "code",
   "execution_count": 2,
   "metadata": {
    "id": "ILb4H15eQDrb",
    "tags": []
   },
   "outputs": [
    {
     "name": "stdout",
     "output_type": "stream",
     "text": [
      "1229\n"
     ]
    }
   ],
   "source": [
    "def sieve(n: int):\n",
    "    is_prime = np.ones(n + 1, dtype=bool)\n",
    "    \n",
    "    is_prime[0] = 0\n",
    "    is_prime[1] = 0\n",
    "    \n",
    "    # TODO: Set is_prime[0] and is_prime[1] to False\n",
    "    # Then iterate over all elements and if it is True (meaning a prime)\n",
    "    # mark all its multiples as False\n",
    "    primes = []\n",
    "    \n",
    "    for i in range(n+1):\n",
    "        if is_prime[i]:\n",
    "            primes.append(i)\n",
    "            \n",
    "            j = 2*i\n",
    "            while j <= n:\n",
    "                is_prime[j] = 0\n",
    "                j += i\n",
    "    \n",
    "    return set(primes)\n",
    "\n",
    "sieve_primes = sieve(N)\n",
    "print(len(sieve_primes))"
   ]
  },
  {
   "cell_type": "markdown",
   "metadata": {
    "id": "8sWFWoOkQDrc"
   },
   "source": [
    "Write the Fermat primality test"
   ]
  },
  {
   "cell_type": "code",
   "execution_count": 3,
   "metadata": {
    "id": "Hu1wyoQqQDrc",
    "tags": []
   },
   "outputs": [],
   "source": [
    "def fermat_is_prime(p: int, base=None):\n",
    "    if p == 0 or p == 1: return False\n",
    "    if p == 2: return True\n",
    "\n",
    "    if base is None:\n",
    "        while True:\n",
    "            base = random.randint(2, p)\n",
    "            if math.gcd(p, base) == 1:\n",
    "                break\n",
    "    # TODO: Compute (base)^(p-1) % p. Consider using the `pow` built-in function.\n",
    "    # If the result is 1, return True\n",
    "    # Otherwise, return False\n",
    "    # Make sure that you don't use numbers significantly bigger than `p`\n",
    "    \n",
    "    return pow(base, p-1, p) == 1"
   ]
  },
  {
   "cell_type": "markdown",
   "metadata": {
    "id": "quRXhOmfQDrd"
   },
   "source": [
    "Using a single or even a random base might not always work: $2^{340} \\equiv 1\\ (mod\\ 341)$, but $341 = 11 \\cdot 31$ is composite. These numbers are called *pseudoprimes*. There is a proof that for every composite number where the algorithm succeeds for at least one base, it will succeed for at least half of the bases. Write the repeated fermat primality test that answers the primality question correctly with probability $1 - \\delta$. In order to achieve that, you will call `fermat_is_prime` iteratively until the failure probability is less than $\\delta$."
   ]
  },
  {
   "cell_type": "code",
   "execution_count": 8,
   "metadata": {
    "id": "q-PjI9pXQDrd",
    "tags": []
   },
   "outputs": [],
   "source": [
    "def boosted_fermat(p: int, delta=1e-6):\n",
    "    if p == 0 or p == 1: return False\n",
    "    if p == 2: return True\n",
    "    \n",
    "    trust = 1\n",
    "\n",
    "    while trust > delta:\n",
    "        if fermat_is_prime(p):\n",
    "            trust *= 0.5\n",
    "        else:\n",
    "            return False\n",
    "\n",
    "    return True"
   ]
  },
  {
   "cell_type": "markdown",
   "metadata": {
    "id": "l92NtpH9QDre"
   },
   "source": [
    "There exist certain numbers that have **no** (non coprime) bases for which the fermat test works. Those are called [Carmichael numbers](https://en.wikipedia.org/wiki/Carmichael_number). Use your primality testing with $\\delta = 10^{-6}$ to print all Carmichael numbers."
   ]
  },
  {
   "cell_type": "code",
   "execution_count": 10,
   "metadata": {
    "id": "0KFHw26lQDre",
    "tags": []
   },
   "outputs": [
    {
     "name": "stdout",
     "output_type": "stream",
     "text": [
      "561\n",
      "1105\n",
      "1729\n",
      "2465\n",
      "2821\n",
      "6601\n",
      "8911\n"
     ]
    }
   ],
   "source": [
    "for p in range(2, N+1):\n",
    "    if boosted_fermat(p) and p not in sieve_primes:\n",
    "        print(p)"
   ]
  }
 ],
 "metadata": {
  "colab": {
   "provenance": []
  },
  "kernelspec": {
   "display_name": "Python 3 (ipykernel)",
   "language": "python",
   "name": "python3"
  },
  "language_info": {
   "codemirror_mode": {
    "name": "ipython",
    "version": 3
   },
   "file_extension": ".py",
   "mimetype": "text/x-python",
   "name": "python",
   "nbconvert_exporter": "python",
   "pygments_lexer": "ipython3",
   "version": "3.10.6"
  }
 },
 "nbformat": 4,
 "nbformat_minor": 4
}
