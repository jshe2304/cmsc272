{
 "cells": [
  {
   "cell_type": "code",
   "execution_count": 1,
   "id": "709fc692-3a07-455d-95a6-036c6018dfcf",
   "metadata": {
    "tags": []
   },
   "outputs": [],
   "source": [
    "import numpy as np"
   ]
  },
  {
   "cell_type": "code",
   "execution_count": 2,
   "id": "e26ad4ba-ffc0-4c5a-a8b4-c99557f409b2",
   "metadata": {
    "tags": []
   },
   "outputs": [],
   "source": [
    "w = 3\n",
    "w_inv = 5"
   ]
  },
  {
   "cell_type": "code",
   "execution_count": 3,
   "id": "0a98f5c2-6ce5-4665-8775-acdb4ca3bdd8",
   "metadata": {
    "tags": []
   },
   "outputs": [],
   "source": [
    "def print_latex(m):\n",
    "    for row in m:\n",
    "        print(' & '.join([str(i) for i in row]) + ' \\\\\\\\ ')"
   ]
  },
  {
   "cell_type": "code",
   "execution_count": 4,
   "id": "09998184-5df6-4723-817e-c4ecc320b091",
   "metadata": {
    "tags": []
   },
   "outputs": [
    {
     "name": "stdout",
     "output_type": "stream",
     "text": [
      "[[1 1 1 1 1 1]\n",
      " [1 3 2 6 4 5]\n",
      " [1 2 4 1 2 4]\n",
      " [1 6 1 6 1 6]\n",
      " [1 4 2 1 4 2]\n",
      " [1 5 4 6 2 3]]\n"
     ]
    }
   ],
   "source": [
    "m = np.empty((6, 6), dtype=int)\n",
    "\n",
    "for i in range(6):\n",
    "    for j in range(6):\n",
    "        m[i][j] = w ** (i*j) % 7\n",
    "        \n",
    "print(m)"
   ]
  },
  {
   "cell_type": "code",
   "execution_count": 5,
   "id": "0fc319bf-7612-4970-98d8-2300723e7c41",
   "metadata": {
    "tags": []
   },
   "outputs": [
    {
     "name": "stdout",
     "output_type": "stream",
     "text": [
      "[[6 6 6 6 6 6]\n",
      " [6 2 3 1 5 4]\n",
      " [6 3 5 6 3 5]\n",
      " [6 1 6 1 6 1]\n",
      " [6 5 3 6 5 3]\n",
      " [6 4 5 1 3 2]]\n"
     ]
    }
   ],
   "source": [
    "m_inv = np.empty((6, 6), dtype=int)\n",
    "\n",
    "for i in range(6):\n",
    "    for j in range(6):\n",
    "        m_inv[i][j] = w_inv ** (i*j) % 7\n",
    "        \n",
    "m_inv = (m_inv * 6) % 7\n",
    "\n",
    "print(m_inv)"
   ]
  },
  {
   "cell_type": "code",
   "execution_count": 6,
   "id": "cc520641-1386-48de-8d7f-87ee933a53f3",
   "metadata": {
    "tags": []
   },
   "outputs": [
    {
     "name": "stdout",
     "output_type": "stream",
     "text": [
      "[1 1 1 0 0 0]\n",
      "[-1  2  0  1  0  0]\n"
     ]
    }
   ],
   "source": [
    "p1 = np.array([1, 1, 1, 0, 0, 0])\n",
    "p2 = np.array([-1, 2, 0, 1, 0, 0])\n",
    "\n",
    "print(p1)\n",
    "print(p2)"
   ]
  },
  {
   "cell_type": "code",
   "execution_count": 7,
   "id": "ed98beb0-77b9-4d51-a08c-0616d3899962",
   "metadata": {
    "tags": []
   },
   "outputs": [
    {
     "name": "stdout",
     "output_type": "stream",
     "text": [
      "[3 6 0 1 0 3]\n",
      "[2 4 4 3 1 1]\n"
     ]
    }
   ],
   "source": [
    "p1_t = m @ p1 % 7\n",
    "p2_t = m @ p2 % 7\n",
    "\n",
    "print(p1_t)\n",
    "print(p2_t)"
   ]
  },
  {
   "cell_type": "code",
   "execution_count": 8,
   "id": "5cfc9810-aa58-49a7-bf7f-3365f06ea881",
   "metadata": {
    "tags": []
   },
   "outputs": [
    {
     "name": "stdout",
     "output_type": "stream",
     "text": [
      "[6 3 0 3 0 3]\n"
     ]
    }
   ],
   "source": [
    "p12_t = p1_t * p2_t % 7\n",
    "\n",
    "print(p12_t)"
   ]
  },
  {
   "cell_type": "code",
   "execution_count": 9,
   "id": "310a06b2-da7a-45e9-9fb7-e9f42ec564c2",
   "metadata": {
    "tags": []
   },
   "outputs": [
    {
     "name": "stdout",
     "output_type": "stream",
     "text": [
      "[6 1 1 3 1 1]\n"
     ]
    }
   ],
   "source": [
    "p12 = m_inv @ p12_t % 7\n",
    "\n",
    "print(p12)"
   ]
  }
 ],
 "metadata": {
  "kernelspec": {
   "display_name": "Python 3 (ipykernel)",
   "language": "python",
   "name": "python3"
  },
  "language_info": {
   "codemirror_mode": {
    "name": "ipython",
    "version": 3
   },
   "file_extension": ".py",
   "mimetype": "text/x-python",
   "name": "python",
   "nbconvert_exporter": "python",
   "pygments_lexer": "ipython3",
   "version": "3.10.6"
  }
 },
 "nbformat": 4,
 "nbformat_minor": 5
}
